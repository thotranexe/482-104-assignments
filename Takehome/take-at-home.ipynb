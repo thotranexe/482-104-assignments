{
 "cells": [
  {
   "attachments": {},
   "cell_type": "markdown",
   "metadata": {},
   "source": [
    "# Midterm - Spring 2023\n",
    "\n",
    "## Problem 1: Take-at-home  (45 points total)\n",
    "\n",
    "You are applying for a position at the data science team of USDA and you are given data associated with determining appropriate parasite treatment of canines. The suggested treatment options are determined based on a **logistic regression** model that predicts if the canine is infected with a parasite. \n",
    "\n",
    "The data is given in the site: https://data.world/ehales/grls-parasite-study/workspace/file?filename=CBC_data.csv  and more specifically in the CBC_data.csv file. Login using you University Google account to access the data and the description that includes a paper on the study (**you dont need to read the paper to solve this problem**). Your target variable $y$ column is titled `parasite_status`. \n",
    "\n",
    "\n"
   ]
  },
  {
   "attachments": {},
   "cell_type": "markdown",
   "metadata": {},
   "source": [
    "### Question 1 - Feature Engineering (5 points)\n",
    "\n",
    "In this step you outline the following as potential features (this is a limited example - we can have many features as in your programming exercise below). \n",
    "\n",
    "Write the posterior probability expressions for logistic regression for the problem you are given to solve."
   ]
  },
  {
   "attachments": {},
   "cell_type": "markdown",
   "metadata": {},
   "source": [
    "$$p(y=1| \\mathbf{x}, \\mathbf w)=$$ \n",
    "\n",
    "$$p(y=0| \\mathbf{x}, \\mathbf w)=$$ "
   ]
  },
  {
   "attachments": {},
   "cell_type": "markdown",
   "metadata": {},
   "source": [
    "<img src=\"q1.png\" alt=\"Alternative text\" />"
   ]
  },
  {
   "attachments": {},
   "cell_type": "markdown",
   "metadata": {},
   "source": [
    "\n",
    "\n",
    "### Question 2 - Decision Boundary (5 points)\n",
    "\n",
    "Write the expression for the decision boundary assuming that $p(y=1)=p(y=0)$. The decision boundary is the line that separates the two classes.\n",
    "\n",
    "\n",
    "\n"
   ]
  },
  {
   "attachments": {},
   "cell_type": "markdown",
   "metadata": {},
   "source": [
    "<img src=\"q2.png\" alt=\"Alternative text\" />"
   ]
  },
  {
   "attachments": {},
   "cell_type": "markdown",
   "metadata": {},
   "source": [
    "\n",
    "\n",
    "### Question 3 - Loss function (5 points)\n",
    "\n",
    "Write the expression of the loss as a function of $\\mathbf w$ that makes sense for you to use in this problem. \n",
    "\n",
    "NOTE: The loss will be a function that will include this function: \n",
    "\n",
    "$$\\sigma(a) = \\frac{1}{1+e^{-a}}$$\n",
    "\n"
   ]
  },
  {
   "attachments": {},
   "cell_type": "markdown",
   "metadata": {},
   "source": [
    "<img src=\"q3.png\" alt=\"Alternative text\" />"
   ]
  },
  {
   "attachments": {},
   "cell_type": "markdown",
   "metadata": {},
   "source": [
    "$$L_{CE} = $$"
   ]
  },
  {
   "attachments": {},
   "cell_type": "markdown",
   "metadata": {},
   "source": [
    "\n",
    "### Question 4 - Gradient (5 points)\n",
    "\n",
    "Write the expression of the gradient of the loss with respect to the parameters - show all your work.\n",
    "\n"
   ]
  },
  {
   "attachments": {},
   "cell_type": "markdown",
   "metadata": {},
   "source": [
    "$$ \\nabla_\\mathbf w L_{CE} = $$"
   ]
  },
  {
   "cell_type": "markdown",
   "metadata": {},
   "source": [
    "<img src=\"q4.png\" alt=\"Alternative text\" />"
   ]
  },
  {
   "attachments": {},
   "cell_type": "markdown",
   "metadata": {},
   "source": [
    "### Question 5 - Imbalanced dataset (10 points)\n",
    "\n",
    "You are now told that in the dataset  \n",
    "\n",
    "$$p(y=0) >> p(y=1)$$\n",
    "\n",
    "Can you comment if the accuracy of Logistic Regression will be affected by such imbalance?\n",
    "\n"
   ]
  },
  {
   "attachments": {},
   "cell_type": "markdown",
   "metadata": {},
   "source": [
    "<img src=\"q5.png\" alt=\"Alternative text\" />"
   ]
  },
  {
   "cell_type": "markdown",
   "metadata": {},
   "source": [
    "\n",
    "### Question 6 - SGD (15 points)\n",
    "\n",
    "The interviewer was impressed with your answers and wants to test your programming skills. \n",
    "\n",
    "1. Use the dataset to train a logistic regressor that will predict the target variable $y$. \n",
    "\n",
    " 2. Report the harmonic mean of precision (p) and recall (r) i.e the  [metric called $F_1$ score](https://en.wikipedia.org/wiki/F-score) that is calculated as shown below using a test dataset that is 20% of each group. Plot the $F_1$ score vs the iteration number  $t$. \n",
    "\n",
    "$$F_1 = \\frac{2}{r^{-1} + p^{-1}}$$\n",
    "\n",
    "Your code includes hyperparameter optimization of the learning rate and mini batch size. Please learn about cross validation which is a splitting strategy for tuning models [here](https://scikit-learn.org/stable/modules/cross_validation.html).\n",
    "\n",
    "You are allowed to use any library you want to code this problem.\n",
    "\n"
   ]
  },
  {
   "cell_type": "code",
   "execution_count": 125,
   "metadata": {},
   "outputs": [],
   "source": [
    "import pandas as pd\n",
    "import numpy as np\n",
    "from sklearn.model_selection import train_test_split\n",
    "from sklearn.model_selection import cross_val_score\n",
    "from sklearn.preprocessing import MinMaxScaler\n",
    "from sklearn.linear_model import SGDClassifier\n",
    "from imblearn.under_sampling import RandomUnderSampler\n",
    "\n",
    "from sklearn.metrics import accuracy_score, confusion_matrix, precision_recall_fscore_support\n",
    "import matplotlib.pyplot as plt\n",
    "import math \n",
    "\n",
    "df=pd.read_csv(\"CBC_data.csv\")\n",
    "df.head()\n",
    "df=df.dropna()\n",
    "\n"
   ]
  },
  {
   "cell_type": "code",
   "execution_count": 133,
   "metadata": {},
   "outputs": [
    {
     "name": "stdout",
     "output_type": "stream",
     "text": [
      "class counts after undersampling:\n",
      "\n",
      "0    149\n",
      "1    149\n",
      "Name: PARASITE_STATUS, dtype: int64\n",
      "\n",
      "The accuracy of the model is : 50.0 %\n",
      "Confusion Matrix:\n",
      " [[408 433]\n",
      " [ 17  41]]\n",
      "Precision =  0.0865 \n",
      "Recall =  0.7069 \n",
      "F-Score =  0.1541\n",
      "CV score with 5 folds: 0.5368361581920904\n"
     ]
    }
   ],
   "source": [
    "y=df[\"PARASITE_STATUS\"].replace({'Negative':0,'Positive':1}) #convert strings to values\n",
    "df['SEX']=df['SEX'].replace({'Male':0,\"Female\":1})\n",
    "df['REPRO.STATUS']=df['REPRO.STATUS'].replace({'Intact':0,'Neutered':1})\n",
    "df[\"TYPEAREA\"]=df[\"TYPEAREA\"].replace({\"Urban\":1,\"Suburban\":0.5,\"Rural\":0})\n",
    "#^rational behind this is that urban>suburban>rural population density, therefore more density, thus higher transmission rate?\n",
    "x=df.loc[:,~df.columns.isin(['PARASITE_STATUS','SEX.REPRO','ID'])]#unimportant data for the model\n",
    "#scale x values to such that no feature has greater bias due to higher values\n",
    "scaler=MinMaxScaler()\n",
    "x=scaler.fit_transform(x)\n",
    "#split data save 30% to test\n",
    "x_train,x_test,y_train,y_test=train_test_split(x,y,test_size=.30,random_state=1551)\n",
    "#undersample to combate abundance of y=0\n",
    "undersample=RandomUnderSampler(sampling_strategy=\"not minority\")\n",
    "x_train_under, y_train_under = undersample.fit_resample(x_train, y_train)\n",
    "print(\"class counts after undersampling:\\n\")\n",
    "print(y_train_under.value_counts())\n",
    "#fit model\n",
    "classsifier=SGDClassifier(loss='log_loss',alpha=0.4,max_iter=1000, tol=0.0001)\n",
    "model=classsifier.fit(x_train_under,y_train_under)\n",
    "y_pred=model.predict(x_test)\n",
    "# Deteremine model accuracy and goodness of fit\n",
    "accuracy = accuracy_score(np.array(y_test),np.array(y_pred),normalize=True)\n",
    "conf_mat = confusion_matrix(y_test,y_pred)\n",
    "print(\"\\nThe accuracy of the model is :\", round(accuracy,2)*100,\"%\")\n",
    "print(\"Confusion Matrix:\\n\", conf_mat)\n",
    "\n",
    "precision, recall, fscore, support = precision_recall_fscore_support(y_test, y_pred, average='binary')\n",
    "print('Precision = ',round(precision,4),'\\nRecall = ', round(recall,4), '\\nF-Score = ',round(fscore,4))\n",
    "\n",
    "print(\"CV score with 5 folds:\",cross_val_score(model,x_train_under,y_train_under,cv=5).mean())"
   ]
  },
  {
   "attachments": {},
   "cell_type": "markdown",
   "metadata": {},
   "source": [
    "### Explanation \n",
    "I used the sklearn library to fit a SDG model. Despite using the model it could not produce an accuracy greater than 65% from what ive seen. This could be due to the lack of Positive samples, despite even oversampling and undersampling. The data provided simply could not be used provide a suffecient model. \n",
    "1. Reducing the amount of parameters  produced highly volatile csv scores. \n",
    "2. Increasing alpha increases accuracy volatily, Decreasing it leaves it stagnant at about 50%\n",
    "3. Without over/undersampling, the model produces a 93% accuracy but does not ever predict a positive condition(the model only guesses 0), leaving only TP's and FN's, effectively reducing f1 and precison to 0.\n",
    "My hypothesis is that almost none of the data provided correlated sufficiently with Parasite_Status as shown below. Thus making it difficult for the model to fit a proper threshold. "
   ]
  },
  {
   "cell_type": "code",
   "execution_count": 132,
   "metadata": {},
   "outputs": [
    {
     "name": "stdout",
     "output_type": "stream",
     "text": [
      "[[-0.0461225  -0.04391969 -0.04520073 -0.03048249 -0.05144564 -0.05240167\n",
      "  -0.01314039 -0.00389396 -0.01568663 -0.01039541 -0.0256525  -0.02538672]]\n"
     ]
    }
   ],
   "source": [
    "print(model.coef_)"
   ]
  },
  {
   "attachments": {},
   "cell_type": "markdown",
   "metadata": {},
   "source": [
    "https://github.com/thotranexe/482-104-assignments/blob/main/Takehome/take-at-home.ipynb \n",
    "github url here"
   ]
  }
 ],
 "metadata": {
  "kernelspec": {
   "display_name": "ai-course",
   "language": "python",
   "name": "python3"
  },
  "language_info": {
   "codemirror_mode": {
    "name": "ipython",
    "version": 3
   },
   "file_extension": ".py",
   "mimetype": "text/x-python",
   "name": "python",
   "nbconvert_exporter": "python",
   "pygments_lexer": "ipython3",
   "version": "3.10.8"
  },
  "orig_nbformat": 4,
  "vscode": {
   "interpreter": {
    "hash": "62556f7a043365a66e0918c892755cfafede529a87e97207556f006a109bade4"
   }
  }
 },
 "nbformat": 4,
 "nbformat_minor": 2
}
